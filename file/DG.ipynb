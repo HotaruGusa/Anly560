{
 "cells": [
  {
   "cell_type": "code",
   "execution_count": 3,
   "id": "18f295b6",
   "metadata": {},
   "outputs": [],
   "source": [
    "import pandas as pd\n",
    "import pandas_datareader as wb"
   ]
  },
  {
   "cell_type": "code",
   "execution_count": 16,
   "id": "a83cd2ac-a840-4d36-b22d-3b4215cb99d6",
   "metadata": {},
   "outputs": [],
   "source": [
    "start = '2019-01-01'\n",
    "end = '2021-12-31'\n",
    "ticker = '0291.HK'\n",
    "Beer = wb.DataReader(ticker, 'yahoo', start, end)"
   ]
  },
  {
   "cell_type": "code",
   "execution_count": 18,
   "id": "77113776",
   "metadata": {},
   "outputs": [],
   "source": [
    "Beer.to_csv('HK_beer.csv')\n"
   ]
  }
 ],
 "metadata": {
  "interpreter": {
   "hash": "40d3a090f54c6569ab1632332b64b2c03c39dcf918b08424e98f38b5ae0af88f"
  },
  "kernelspec": {
   "display_name": "Python 3",
   "language": "python",
   "name": "python3"
  },
  "language_info": {
   "codemirror_mode": {
    "name": "ipython",
    "version": 3
   },
   "file_extension": ".py",
   "mimetype": "text/x-python",
   "name": "python",
   "nbconvert_exporter": "python",
   "pygments_lexer": "ipython3",
   "version": "3.9.7"
  }
 },
 "nbformat": 4,
 "nbformat_minor": 5
}
